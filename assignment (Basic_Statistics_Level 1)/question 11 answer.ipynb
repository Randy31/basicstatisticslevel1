{
 "cells": [
  {
   "cell_type": "code",
   "execution_count": 1,
   "id": "e03dbf14",
   "metadata": {},
   "outputs": [],
   "source": [
    "import scipy.stats as stats\n",
    "import math"
   ]
  },
  {
   "cell_type": "code",
   "execution_count": 2,
   "id": "9d53faf4",
   "metadata": {},
   "outputs": [],
   "source": [
    "sample_mean = 200 \n",
    "sample_std_dev = 30 \n",
    "sample_size = 2000\n",
    "percentageof94 = 0.94\n",
    "percentageof98 = 0.98\n",
    "percentageof96 = 0.96"
   ]
  },
  {
   "cell_type": "code",
   "execution_count": 33,
   "id": "31523298",
   "metadata": {},
   "outputs": [],
   "source": [
    "z_Score94 = ((1+0.94)/2)\n",
    "z_Score98 = ((1+0.98)/2)\n",
    "z_Score96 = ((1+0.96)/2)"
   ]
  },
  {
   "cell_type": "code",
   "execution_count": 42,
   "id": "6223c149",
   "metadata": {},
   "outputs": [
    {
     "data": {
      "text/plain": [
       "0.98"
      ]
     },
     "execution_count": 42,
     "metadata": {},
     "output_type": "execute_result"
    }
   ],
   "source": [
    "z_Score96"
   ]
  },
  {
   "cell_type": "code",
   "execution_count": 43,
   "id": "6d7a5c8b",
   "metadata": {},
   "outputs": [],
   "source": [
    "confidence_94 = stats.norm.ppf(z_Score94)\n",
    "confidence_98 = stats.norm.ppf(z_Score98)\n",
    "confidence_96 = stats.norm.ppf(z_Score96)"
   ]
  },
  {
   "cell_type": "code",
   "execution_count": 44,
   "id": "3e6074c2",
   "metadata": {},
   "outputs": [
    {
     "data": {
      "text/plain": [
       "1.8807936081512509"
      ]
     },
     "execution_count": 44,
     "metadata": {},
     "output_type": "execute_result"
    }
   ],
   "source": [
    "confidence_94"
   ]
  },
  {
   "cell_type": "code",
   "execution_count": 45,
   "id": "53894f5d",
   "metadata": {},
   "outputs": [
    {
     "data": {
      "text/plain": [
       "2.3263478740408408"
      ]
     },
     "execution_count": 45,
     "metadata": {},
     "output_type": "execute_result"
    }
   ],
   "source": [
    "confidence_98"
   ]
  },
  {
   "cell_type": "code",
   "execution_count": 46,
   "id": "33bc90f4",
   "metadata": {},
   "outputs": [
    {
     "data": {
      "text/plain": [
       "2.0537489106318225"
      ]
     },
     "execution_count": 46,
     "metadata": {},
     "output_type": "execute_result"
    }
   ],
   "source": [
    "confidence_96"
   ]
  },
  {
   "cell_type": "code",
   "execution_count": 47,
   "id": "46ff883a",
   "metadata": {},
   "outputs": [],
   "source": [
    "margin_of_error_94 = confidence_94 * (sample_std_dev / math.sqrt(sample_size))\n",
    "margin_of_error_98 = confidence_98 * (sample_std_dev / math.sqrt(sample_size))\n",
    "margin_of_error_96 = confidence_96 * (sample_std_dev / math.sqrt(sample_size))"
   ]
  },
  {
   "cell_type": "code",
   "execution_count": 48,
   "id": "dec5c6c7",
   "metadata": {},
   "outputs": [
    {
     "data": {
      "text/plain": [
       "1.2616747078419899"
      ]
     },
     "execution_count": 48,
     "metadata": {},
     "output_type": "execute_result"
    }
   ],
   "source": [
    "margin_of_error_94"
   ]
  },
  {
   "cell_type": "code",
   "execution_count": 49,
   "id": "17ab46bf",
   "metadata": {},
   "outputs": [
    {
     "data": {
      "text/plain": [
       "1.5605615957002315"
      ]
     },
     "execution_count": 49,
     "metadata": {},
     "output_type": "execute_result"
    }
   ],
   "source": [
    "margin_of_error_98"
   ]
  },
  {
   "cell_type": "code",
   "execution_count": 50,
   "id": "ceb03001",
   "metadata": {},
   "outputs": [
    {
     "data": {
      "text/plain": [
       "1.3776966518666687"
      ]
     },
     "execution_count": 50,
     "metadata": {},
     "output_type": "execute_result"
    }
   ],
   "source": [
    "margin_of_error_96"
   ]
  },
  {
   "cell_type": "code",
   "execution_count": 51,
   "id": "e710fc9d",
   "metadata": {},
   "outputs": [],
   "source": [
    "ci_94 = (sample_mean - margin_of_error_94, sample_mean + margin_of_error_94)\n",
    "ci_98 = (sample_mean - margin_of_error_98, sample_mean + margin_of_error_98)\n",
    "ci_96 = (sample_mean - margin_of_error_96, sample_mean + margin_of_error_96)"
   ]
  },
  {
   "cell_type": "code",
   "execution_count": 52,
   "id": "b5c9425a",
   "metadata": {},
   "outputs": [
    {
     "data": {
      "text/plain": [
       "(198.738325292158, 201.261674707842)"
      ]
     },
     "execution_count": 52,
     "metadata": {},
     "output_type": "execute_result"
    }
   ],
   "source": [
    "ci_94"
   ]
  },
  {
   "cell_type": "code",
   "execution_count": 53,
   "id": "448c7494",
   "metadata": {},
   "outputs": [
    {
     "data": {
      "text/plain": [
       "(198.43943840429978, 201.56056159570022)"
      ]
     },
     "execution_count": 53,
     "metadata": {},
     "output_type": "execute_result"
    }
   ],
   "source": [
    "ci_98"
   ]
  },
  {
   "cell_type": "code",
   "execution_count": 54,
   "id": "6fc65cec",
   "metadata": {},
   "outputs": [
    {
     "data": {
      "text/plain": [
       "(198.62230334813333, 201.37769665186667)"
      ]
     },
     "execution_count": 54,
     "metadata": {},
     "output_type": "execute_result"
    }
   ],
   "source": [
    "ci_96"
   ]
  },
  {
   "cell_type": "code",
   "execution_count": null,
   "id": "3e59efe4",
   "metadata": {},
   "outputs": [],
   "source": []
  }
 ],
 "metadata": {
  "kernelspec": {
   "display_name": "Python 3 (ipykernel)",
   "language": "python",
   "name": "python3"
  },
  "language_info": {
   "codemirror_mode": {
    "name": "ipython",
    "version": 3
   },
   "file_extension": ".py",
   "mimetype": "text/x-python",
   "name": "python",
   "nbconvert_exporter": "python",
   "pygments_lexer": "ipython3",
   "version": "3.11.4"
  }
 },
 "nbformat": 4,
 "nbformat_minor": 5
}
