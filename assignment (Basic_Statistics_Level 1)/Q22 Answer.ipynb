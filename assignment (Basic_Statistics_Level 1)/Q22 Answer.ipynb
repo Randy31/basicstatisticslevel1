{
 "cells": [
  {
   "cell_type": "code",
   "execution_count": 2,
   "id": "4382e8d4",
   "metadata": {},
   "outputs": [],
   "source": [
    "import scipy.stats as stats"
   ]
  },
  {
   "cell_type": "code",
   "execution_count": 3,
   "id": "b7570014",
   "metadata": {},
   "outputs": [],
   "source": [
    "confidence_90 = 0.90\n",
    "confidence_94 = 0.94\n",
    "confidence_60 = 0.60"
   ]
  },
  {
   "cell_type": "code",
   "execution_count": 4,
   "id": "312f0cce",
   "metadata": {},
   "outputs": [],
   "source": [
    "z_score_90 = stats.norm.ppf((1 + confidence_90) / 2)\n",
    "z_score_94 = stats.norm.ppf((1 + confidence_94) / 2)\n",
    "z_score_60 = stats.norm.ppf((1 + confidence_60) / 2)"
   ]
  },
  {
   "cell_type": "code",
   "execution_count": 5,
   "id": "8b99b190",
   "metadata": {},
   "outputs": [
    {
     "data": {
      "text/plain": [
       "1.6448536269514722"
      ]
     },
     "execution_count": 5,
     "metadata": {},
     "output_type": "execute_result"
    }
   ],
   "source": [
    "z_score_90"
   ]
  },
  {
   "cell_type": "code",
   "execution_count": 6,
   "id": "71dcdaa4",
   "metadata": {},
   "outputs": [
    {
     "data": {
      "text/plain": [
       "1.8807936081512509"
      ]
     },
     "execution_count": 6,
     "metadata": {},
     "output_type": "execute_result"
    }
   ],
   "source": [
    "z_score_94"
   ]
  },
  {
   "cell_type": "code",
   "execution_count": 7,
   "id": "e4e1345b",
   "metadata": {},
   "outputs": [
    {
     "data": {
      "text/plain": [
       "0.8416212335729143"
      ]
     },
     "execution_count": 7,
     "metadata": {},
     "output_type": "execute_result"
    }
   ],
   "source": [
    "z_score_60"
   ]
  },
  {
   "cell_type": "code",
   "execution_count": null,
   "id": "1f0b13ae",
   "metadata": {},
   "outputs": [],
   "source": []
  }
 ],
 "metadata": {
  "kernelspec": {
   "display_name": "Python 3 (ipykernel)",
   "language": "python",
   "name": "python3"
  },
  "language_info": {
   "codemirror_mode": {
    "name": "ipython",
    "version": 3
   },
   "file_extension": ".py",
   "mimetype": "text/x-python",
   "name": "python",
   "nbconvert_exporter": "python",
   "pygments_lexer": "ipython3",
   "version": "3.11.4"
  }
 },
 "nbformat": 4,
 "nbformat_minor": 5
}
