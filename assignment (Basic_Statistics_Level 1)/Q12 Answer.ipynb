{
 "cells": [
  {
   "cell_type": "code",
   "execution_count": 1,
   "id": "2e2883f2",
   "metadata": {},
   "outputs": [],
   "source": [
    "import numpy as np"
   ]
  },
  {
   "cell_type": "code",
   "execution_count": 2,
   "id": "e20cdbd2",
   "metadata": {},
   "outputs": [],
   "source": [
    "df = [34,36,36,38,38,39,39,40,40,41,41,41,41,42,42,45,49,56]"
   ]
  },
  {
   "cell_type": "code",
   "execution_count": 3,
   "id": "fddd1789",
   "metadata": {},
   "outputs": [],
   "source": [
    "mean_score = np.mean(df)\n",
    "median_score = np.median(df)\n",
    "variance_score = np.var(df)\n",
    "std_dev_score = np.std(df)"
   ]
  },
  {
   "cell_type": "code",
   "execution_count": 4,
   "id": "b7230e5d",
   "metadata": {},
   "outputs": [
    {
     "name": "stdout",
     "output_type": "stream",
     "text": [
      "Mean: 41.0\n"
     ]
    }
   ],
   "source": [
    "print(\"Mean:\", mean_score)"
   ]
  },
  {
   "cell_type": "code",
   "execution_count": 5,
   "id": "2f1e1d9f",
   "metadata": {},
   "outputs": [
    {
     "name": "stdout",
     "output_type": "stream",
     "text": [
      "median: 40.5\n"
     ]
    }
   ],
   "source": [
    "print(\"median:\", median_score)"
   ]
  },
  {
   "cell_type": "code",
   "execution_count": 6,
   "id": "5c53d409",
   "metadata": {},
   "outputs": [
    {
     "name": "stdout",
     "output_type": "stream",
     "text": [
      "variance: 24.11111111111111\n"
     ]
    }
   ],
   "source": [
    "print(\"variance:\",variance_score)"
   ]
  },
  {
   "cell_type": "code",
   "execution_count": 7,
   "id": "61ed1cce",
   "metadata": {},
   "outputs": [
    {
     "name": "stdout",
     "output_type": "stream",
     "text": [
      "variance: 4.910306620885412\n"
     ]
    }
   ],
   "source": [
    "print(\"variance:\",std_dev_score)"
   ]
  },
  {
   "cell_type": "code",
   "execution_count": null,
   "id": "50d0114b",
   "metadata": {},
   "outputs": [],
   "source": []
  }
 ],
 "metadata": {
  "kernelspec": {
   "display_name": "Python 3 (ipykernel)",
   "language": "python",
   "name": "python3"
  },
  "language_info": {
   "codemirror_mode": {
    "name": "ipython",
    "version": 3
   },
   "file_extension": ".py",
   "mimetype": "text/x-python",
   "name": "python",
   "nbconvert_exporter": "python",
   "pygments_lexer": "ipython3",
   "version": "3.11.4"
  }
 },
 "nbformat": 4,
 "nbformat_minor": 5
}
