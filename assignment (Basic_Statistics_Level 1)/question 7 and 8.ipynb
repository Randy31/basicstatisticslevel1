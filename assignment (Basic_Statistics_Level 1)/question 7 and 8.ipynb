{
 "cells": [
  {
   "cell_type": "code",
   "execution_count": 93,
   "id": "70366dc1",
   "metadata": {},
   "outputs": [],
   "source": [
    "import math\n",
    "import numpy as np\n",
    "import pandas as pd\n",
    "import matplotlib.pyplot as plt\n",
    "import seaborn as sns\n"
   ]
  },
  {
   "cell_type": "code",
   "execution_count": 94,
   "id": "f61a0918",
   "metadata": {},
   "outputs": [],
   "source": [
    "df = pd.read_csv('Q7.csv')"
   ]
  },
  {
   "cell_type": "code",
   "execution_count": 95,
   "id": "ed5f516b",
   "metadata": {},
   "outputs": [
    {
     "data": {
      "text/html": [
       "<div>\n",
       "<style scoped>\n",
       "    .dataframe tbody tr th:only-of-type {\n",
       "        vertical-align: middle;\n",
       "    }\n",
       "\n",
       "    .dataframe tbody tr th {\n",
       "        vertical-align: top;\n",
       "    }\n",
       "\n",
       "    .dataframe thead th {\n",
       "        text-align: right;\n",
       "    }\n",
       "</style>\n",
       "<table border=\"1\" class=\"dataframe\">\n",
       "  <thead>\n",
       "    <tr style=\"text-align: right;\">\n",
       "      <th></th>\n",
       "      <th>Unnamed: 0</th>\n",
       "      <th>Points</th>\n",
       "      <th>Score</th>\n",
       "      <th>Weigh</th>\n",
       "    </tr>\n",
       "  </thead>\n",
       "  <tbody>\n",
       "    <tr>\n",
       "      <th>0</th>\n",
       "      <td>Mazda RX4</td>\n",
       "      <td>3.90</td>\n",
       "      <td>2.620</td>\n",
       "      <td>16.46</td>\n",
       "    </tr>\n",
       "    <tr>\n",
       "      <th>1</th>\n",
       "      <td>Mazda RX4 Wag</td>\n",
       "      <td>3.90</td>\n",
       "      <td>2.875</td>\n",
       "      <td>17.02</td>\n",
       "    </tr>\n",
       "    <tr>\n",
       "      <th>2</th>\n",
       "      <td>Datsun 710</td>\n",
       "      <td>3.85</td>\n",
       "      <td>2.320</td>\n",
       "      <td>18.61</td>\n",
       "    </tr>\n",
       "    <tr>\n",
       "      <th>3</th>\n",
       "      <td>Hornet 4 Drive</td>\n",
       "      <td>3.08</td>\n",
       "      <td>3.215</td>\n",
       "      <td>19.44</td>\n",
       "    </tr>\n",
       "    <tr>\n",
       "      <th>4</th>\n",
       "      <td>Hornet Sportabout</td>\n",
       "      <td>3.15</td>\n",
       "      <td>3.440</td>\n",
       "      <td>17.02</td>\n",
       "    </tr>\n",
       "    <tr>\n",
       "      <th>5</th>\n",
       "      <td>Valiant</td>\n",
       "      <td>2.76</td>\n",
       "      <td>3.460</td>\n",
       "      <td>20.22</td>\n",
       "    </tr>\n",
       "    <tr>\n",
       "      <th>6</th>\n",
       "      <td>Duster 360</td>\n",
       "      <td>3.21</td>\n",
       "      <td>3.570</td>\n",
       "      <td>15.84</td>\n",
       "    </tr>\n",
       "    <tr>\n",
       "      <th>7</th>\n",
       "      <td>Merc 240D</td>\n",
       "      <td>3.69</td>\n",
       "      <td>3.190</td>\n",
       "      <td>20.00</td>\n",
       "    </tr>\n",
       "    <tr>\n",
       "      <th>8</th>\n",
       "      <td>Merc 230</td>\n",
       "      <td>3.92</td>\n",
       "      <td>3.150</td>\n",
       "      <td>22.90</td>\n",
       "    </tr>\n",
       "    <tr>\n",
       "      <th>9</th>\n",
       "      <td>Merc 280</td>\n",
       "      <td>3.92</td>\n",
       "      <td>3.440</td>\n",
       "      <td>18.30</td>\n",
       "    </tr>\n",
       "    <tr>\n",
       "      <th>10</th>\n",
       "      <td>Merc 280C</td>\n",
       "      <td>3.92</td>\n",
       "      <td>3.440</td>\n",
       "      <td>18.90</td>\n",
       "    </tr>\n",
       "    <tr>\n",
       "      <th>11</th>\n",
       "      <td>Merc 450SE</td>\n",
       "      <td>3.07</td>\n",
       "      <td>4.070</td>\n",
       "      <td>17.40</td>\n",
       "    </tr>\n",
       "    <tr>\n",
       "      <th>12</th>\n",
       "      <td>Merc 450SL</td>\n",
       "      <td>3.07</td>\n",
       "      <td>3.730</td>\n",
       "      <td>17.60</td>\n",
       "    </tr>\n",
       "    <tr>\n",
       "      <th>13</th>\n",
       "      <td>Merc 450SLC</td>\n",
       "      <td>3.07</td>\n",
       "      <td>3.780</td>\n",
       "      <td>18.00</td>\n",
       "    </tr>\n",
       "    <tr>\n",
       "      <th>14</th>\n",
       "      <td>Cadillac Fleetwood</td>\n",
       "      <td>2.93</td>\n",
       "      <td>5.250</td>\n",
       "      <td>17.98</td>\n",
       "    </tr>\n",
       "    <tr>\n",
       "      <th>15</th>\n",
       "      <td>Lincoln Continental</td>\n",
       "      <td>3.00</td>\n",
       "      <td>5.424</td>\n",
       "      <td>17.82</td>\n",
       "    </tr>\n",
       "    <tr>\n",
       "      <th>16</th>\n",
       "      <td>Chrysler Imperial</td>\n",
       "      <td>3.23</td>\n",
       "      <td>5.345</td>\n",
       "      <td>17.42</td>\n",
       "    </tr>\n",
       "    <tr>\n",
       "      <th>17</th>\n",
       "      <td>Fiat 128</td>\n",
       "      <td>4.08</td>\n",
       "      <td>2.200</td>\n",
       "      <td>19.47</td>\n",
       "    </tr>\n",
       "    <tr>\n",
       "      <th>18</th>\n",
       "      <td>Honda Civic</td>\n",
       "      <td>4.93</td>\n",
       "      <td>1.615</td>\n",
       "      <td>18.52</td>\n",
       "    </tr>\n",
       "    <tr>\n",
       "      <th>19</th>\n",
       "      <td>Toyota Corolla</td>\n",
       "      <td>4.22</td>\n",
       "      <td>1.835</td>\n",
       "      <td>19.90</td>\n",
       "    </tr>\n",
       "    <tr>\n",
       "      <th>20</th>\n",
       "      <td>Toyota Corona</td>\n",
       "      <td>3.70</td>\n",
       "      <td>2.465</td>\n",
       "      <td>20.01</td>\n",
       "    </tr>\n",
       "    <tr>\n",
       "      <th>21</th>\n",
       "      <td>Dodge Challenger</td>\n",
       "      <td>2.76</td>\n",
       "      <td>3.520</td>\n",
       "      <td>16.87</td>\n",
       "    </tr>\n",
       "    <tr>\n",
       "      <th>22</th>\n",
       "      <td>AMC Javelin</td>\n",
       "      <td>3.15</td>\n",
       "      <td>3.435</td>\n",
       "      <td>17.30</td>\n",
       "    </tr>\n",
       "    <tr>\n",
       "      <th>23</th>\n",
       "      <td>Camaro Z28</td>\n",
       "      <td>3.73</td>\n",
       "      <td>3.840</td>\n",
       "      <td>15.41</td>\n",
       "    </tr>\n",
       "    <tr>\n",
       "      <th>24</th>\n",
       "      <td>Pontiac Firebird</td>\n",
       "      <td>3.08</td>\n",
       "      <td>3.845</td>\n",
       "      <td>17.05</td>\n",
       "    </tr>\n",
       "    <tr>\n",
       "      <th>25</th>\n",
       "      <td>Fiat X1-9</td>\n",
       "      <td>4.08</td>\n",
       "      <td>1.935</td>\n",
       "      <td>18.90</td>\n",
       "    </tr>\n",
       "    <tr>\n",
       "      <th>26</th>\n",
       "      <td>Porsche 914-2</td>\n",
       "      <td>4.43</td>\n",
       "      <td>2.140</td>\n",
       "      <td>16.70</td>\n",
       "    </tr>\n",
       "    <tr>\n",
       "      <th>27</th>\n",
       "      <td>Lotus Europa</td>\n",
       "      <td>3.77</td>\n",
       "      <td>1.513</td>\n",
       "      <td>16.90</td>\n",
       "    </tr>\n",
       "    <tr>\n",
       "      <th>28</th>\n",
       "      <td>Ford Pantera L</td>\n",
       "      <td>4.22</td>\n",
       "      <td>3.170</td>\n",
       "      <td>14.50</td>\n",
       "    </tr>\n",
       "    <tr>\n",
       "      <th>29</th>\n",
       "      <td>Ferrari Dino</td>\n",
       "      <td>3.62</td>\n",
       "      <td>2.770</td>\n",
       "      <td>15.50</td>\n",
       "    </tr>\n",
       "    <tr>\n",
       "      <th>30</th>\n",
       "      <td>Maserati Bora</td>\n",
       "      <td>3.54</td>\n",
       "      <td>3.570</td>\n",
       "      <td>14.60</td>\n",
       "    </tr>\n",
       "    <tr>\n",
       "      <th>31</th>\n",
       "      <td>Volvo 142E</td>\n",
       "      <td>4.11</td>\n",
       "      <td>2.780</td>\n",
       "      <td>18.60</td>\n",
       "    </tr>\n",
       "  </tbody>\n",
       "</table>\n",
       "</div>"
      ],
      "text/plain": [
       "             Unnamed: 0  Points  Score  Weigh\n",
       "0             Mazda RX4    3.90  2.620  16.46\n",
       "1         Mazda RX4 Wag    3.90  2.875  17.02\n",
       "2            Datsun 710    3.85  2.320  18.61\n",
       "3        Hornet 4 Drive    3.08  3.215  19.44\n",
       "4     Hornet Sportabout    3.15  3.440  17.02\n",
       "5               Valiant    2.76  3.460  20.22\n",
       "6            Duster 360    3.21  3.570  15.84\n",
       "7             Merc 240D    3.69  3.190  20.00\n",
       "8              Merc 230    3.92  3.150  22.90\n",
       "9              Merc 280    3.92  3.440  18.30\n",
       "10            Merc 280C    3.92  3.440  18.90\n",
       "11           Merc 450SE    3.07  4.070  17.40\n",
       "12           Merc 450SL    3.07  3.730  17.60\n",
       "13          Merc 450SLC    3.07  3.780  18.00\n",
       "14   Cadillac Fleetwood    2.93  5.250  17.98\n",
       "15  Lincoln Continental    3.00  5.424  17.82\n",
       "16    Chrysler Imperial    3.23  5.345  17.42\n",
       "17             Fiat 128    4.08  2.200  19.47\n",
       "18          Honda Civic    4.93  1.615  18.52\n",
       "19       Toyota Corolla    4.22  1.835  19.90\n",
       "20        Toyota Corona    3.70  2.465  20.01\n",
       "21     Dodge Challenger    2.76  3.520  16.87\n",
       "22          AMC Javelin    3.15  3.435  17.30\n",
       "23           Camaro Z28    3.73  3.840  15.41\n",
       "24     Pontiac Firebird    3.08  3.845  17.05\n",
       "25            Fiat X1-9    4.08  1.935  18.90\n",
       "26        Porsche 914-2    4.43  2.140  16.70\n",
       "27         Lotus Europa    3.77  1.513  16.90\n",
       "28       Ford Pantera L    4.22  3.170  14.50\n",
       "29         Ferrari Dino    3.62  2.770  15.50\n",
       "30        Maserati Bora    3.54  3.570  14.60\n",
       "31           Volvo 142E    4.11  2.780  18.60"
      ]
     },
     "execution_count": 95,
     "metadata": {},
     "output_type": "execute_result"
    }
   ],
   "source": [
    "df"
   ]
  },
  {
   "cell_type": "markdown",
   "id": "88bd7b81",
   "metadata": {},
   "source": [
    "# mean"
   ]
  },
  {
   "cell_type": "code",
   "execution_count": 96,
   "id": "67e9ea44",
   "metadata": {},
   "outputs": [],
   "source": [
    "meanpoint = np.mean(df['Points'])"
   ]
  },
  {
   "cell_type": "code",
   "execution_count": 97,
   "id": "dbda3c98",
   "metadata": {},
   "outputs": [
    {
     "data": {
      "text/plain": [
       "3.5965625"
      ]
     },
     "execution_count": 97,
     "metadata": {},
     "output_type": "execute_result"
    }
   ],
   "source": [
    "meanpoint"
   ]
  },
  {
   "cell_type": "code",
   "execution_count": 98,
   "id": "3fae72bd",
   "metadata": {},
   "outputs": [],
   "source": [
    "meanscore = np.mean(df['Score'])"
   ]
  },
  {
   "cell_type": "code",
   "execution_count": 99,
   "id": "0cb14323",
   "metadata": {},
   "outputs": [
    {
     "data": {
      "text/plain": [
       "3.2172500000000004"
      ]
     },
     "execution_count": 99,
     "metadata": {},
     "output_type": "execute_result"
    }
   ],
   "source": [
    "meanscore"
   ]
  },
  {
   "cell_type": "code",
   "execution_count": 100,
   "id": "eb81c879",
   "metadata": {},
   "outputs": [],
   "source": [
    "meanweigh = np.mean(df['Weigh'])"
   ]
  },
  {
   "cell_type": "code",
   "execution_count": 101,
   "id": "0beb618c",
   "metadata": {},
   "outputs": [
    {
     "data": {
      "text/plain": [
       "17.848750000000003"
      ]
     },
     "execution_count": 101,
     "metadata": {},
     "output_type": "execute_result"
    }
   ],
   "source": [
    "meanweigh"
   ]
  },
  {
   "cell_type": "markdown",
   "id": "1ce411cf",
   "metadata": {},
   "source": [
    "# median"
   ]
  },
  {
   "cell_type": "code",
   "execution_count": 102,
   "id": "d5653314",
   "metadata": {},
   "outputs": [],
   "source": [
    "medianpoint = np.median(df['Points'])"
   ]
  },
  {
   "cell_type": "code",
   "execution_count": 103,
   "id": "8b2ae9a4",
   "metadata": {},
   "outputs": [
    {
     "data": {
      "text/plain": [
       "3.6950000000000003"
      ]
     },
     "execution_count": 103,
     "metadata": {},
     "output_type": "execute_result"
    }
   ],
   "source": [
    "medianpoint"
   ]
  },
  {
   "cell_type": "code",
   "execution_count": 104,
   "id": "a5e1b78f",
   "metadata": {},
   "outputs": [],
   "source": [
    "medianscore = np.median(df['Score'])"
   ]
  },
  {
   "cell_type": "code",
   "execution_count": 105,
   "id": "bc41cf10",
   "metadata": {},
   "outputs": [
    {
     "data": {
      "text/plain": [
       "3.2172500000000004"
      ]
     },
     "execution_count": 105,
     "metadata": {},
     "output_type": "execute_result"
    }
   ],
   "source": [
    "meanscore"
   ]
  },
  {
   "cell_type": "code",
   "execution_count": 106,
   "id": "08eb5e64",
   "metadata": {},
   "outputs": [],
   "source": [
    "medianweigh = np.median(df['Weigh'])"
   ]
  },
  {
   "cell_type": "code",
   "execution_count": 107,
   "id": "7d952c0d",
   "metadata": {},
   "outputs": [
    {
     "data": {
      "text/plain": [
       "17.71"
      ]
     },
     "execution_count": 107,
     "metadata": {},
     "output_type": "execute_result"
    }
   ],
   "source": [
    "medianweigh"
   ]
  },
  {
   "cell_type": "markdown",
   "id": "31357dce",
   "metadata": {},
   "source": [
    "## Variance"
   ]
  },
  {
   "cell_type": "code",
   "execution_count": 108,
   "id": "52bb4802",
   "metadata": {},
   "outputs": [],
   "source": [
    "variancepoint = np.var(df['Points'])"
   ]
  },
  {
   "cell_type": "code",
   "execution_count": 109,
   "id": "d93941d4",
   "metadata": {},
   "outputs": [
    {
     "data": {
      "text/plain": [
       "0.27694755859375003"
      ]
     },
     "execution_count": 109,
     "metadata": {},
     "output_type": "execute_result"
    }
   ],
   "source": [
    "modepoint"
   ]
  },
  {
   "cell_type": "code",
   "execution_count": 110,
   "id": "2128269c",
   "metadata": {},
   "outputs": [],
   "source": [
    "variancescore = np.var(df['Score'])"
   ]
  },
  {
   "cell_type": "code",
   "execution_count": 111,
   "id": "cbc7b27a",
   "metadata": {},
   "outputs": [
    {
     "data": {
      "text/plain": [
       "0.9274608750000002"
      ]
     },
     "execution_count": 111,
     "metadata": {},
     "output_type": "execute_result"
    }
   ],
   "source": [
    "variancescore"
   ]
  },
  {
   "cell_type": "code",
   "execution_count": 112,
   "id": "dac4f5de",
   "metadata": {},
   "outputs": [],
   "source": [
    "varianceweigh = np.var(df['Weigh'])"
   ]
  },
  {
   "cell_type": "code",
   "execution_count": 113,
   "id": "a06f90be",
   "metadata": {},
   "outputs": [
    {
     "data": {
      "text/plain": [
       "3.0933796874999997"
      ]
     },
     "execution_count": 113,
     "metadata": {},
     "output_type": "execute_result"
    }
   ],
   "source": [
    "varianceweigh"
   ]
  },
  {
   "cell_type": "markdown",
   "id": "5b309644",
   "metadata": {},
   "source": [
    "# std - standard deviation"
   ]
  },
  {
   "cell_type": "code",
   "execution_count": 114,
   "id": "69cecd8e",
   "metadata": {},
   "outputs": [],
   "source": [
    "stdpoint = np.std(df['Points'])"
   ]
  },
  {
   "cell_type": "code",
   "execution_count": 115,
   "id": "5628fbc2",
   "metadata": {},
   "outputs": [
    {
     "data": {
      "text/plain": [
       "0.5262580722361891"
      ]
     },
     "execution_count": 115,
     "metadata": {},
     "output_type": "execute_result"
    }
   ],
   "source": [
    "stdpoint"
   ]
  },
  {
   "cell_type": "code",
   "execution_count": 116,
   "id": "f88ab970",
   "metadata": {},
   "outputs": [],
   "source": [
    "stdscore = np.std(df['Score'])"
   ]
  },
  {
   "cell_type": "code",
   "execution_count": 117,
   "id": "f9ec13fb",
   "metadata": {},
   "outputs": [
    {
     "data": {
      "text/plain": [
       "0.9630477013107919"
      ]
     },
     "execution_count": 117,
     "metadata": {},
     "output_type": "execute_result"
    }
   ],
   "source": [
    "stdscore"
   ]
  },
  {
   "cell_type": "code",
   "execution_count": 118,
   "id": "1a044cde",
   "metadata": {},
   "outputs": [],
   "source": [
    "stdweigh = np.std(df['Weigh'])"
   ]
  },
  {
   "cell_type": "code",
   "execution_count": 119,
   "id": "432a6743",
   "metadata": {},
   "outputs": [
    {
     "data": {
      "text/plain": [
       "1.758800638929836"
      ]
     },
     "execution_count": 119,
     "metadata": {},
     "output_type": "execute_result"
    }
   ],
   "source": [
    "stdweigh"
   ]
  },
  {
   "cell_type": "markdown",
   "id": "6daea053",
   "metadata": {},
   "source": [
    "\n",
    "\n",
    "# Range"
   ]
  },
  {
   "cell_type": "code",
   "execution_count": 120,
   "id": "cb02c211",
   "metadata": {},
   "outputs": [],
   "source": [
    "range_point = max(df['Points']) - min (df['Points'])"
   ]
  },
  {
   "cell_type": "code",
   "execution_count": 121,
   "id": "557a2fc9",
   "metadata": {},
   "outputs": [
    {
     "data": {
      "text/plain": [
       "2.17"
      ]
     },
     "execution_count": 121,
     "metadata": {},
     "output_type": "execute_result"
    }
   ],
   "source": [
    "range_score"
   ]
  },
  {
   "cell_type": "code",
   "execution_count": 122,
   "id": "e8f95b35",
   "metadata": {},
   "outputs": [],
   "source": [
    "range_Score = max(df['Score']) - min (df['Score'])"
   ]
  },
  {
   "cell_type": "code",
   "execution_count": 123,
   "id": "d7766c27",
   "metadata": {},
   "outputs": [
    {
     "data": {
      "text/plain": [
       "3.9110000000000005"
      ]
     },
     "execution_count": 123,
     "metadata": {},
     "output_type": "execute_result"
    }
   ],
   "source": [
    "range_Score"
   ]
  },
  {
   "cell_type": "code",
   "execution_count": 124,
   "id": "c3e9e90a",
   "metadata": {},
   "outputs": [],
   "source": [
    "range_weigh = max(df['Weigh']) - min (df['Weigh'])"
   ]
  },
  {
   "cell_type": "code",
   "execution_count": 125,
   "id": "c10aa3e9",
   "metadata": {},
   "outputs": [
    {
     "data": {
      "text/plain": [
       "8.399999999999999"
      ]
     },
     "execution_count": 125,
     "metadata": {},
     "output_type": "execute_result"
    }
   ],
   "source": [
    "range_weigh"
   ]
  },
  {
   "cell_type": "markdown",
   "id": "4bf0947b",
   "metadata": {},
   "source": [
    "# plot"
   ]
  },
  {
   "cell_type": "code",
   "execution_count": 145,
   "id": "78b1a9ed",
   "metadata": {},
   "outputs": [
    {
     "data": {
      "text/plain": [
       "<Figure size 1600x300 with 0 Axes>"
      ]
     },
     "execution_count": 145,
     "metadata": {},
     "output_type": "execute_result"
    },
    {
     "data": {
      "text/plain": [
       "<Figure size 1600x300 with 0 Axes>"
      ]
     },
     "metadata": {},
     "output_type": "display_data"
    }
   ],
   "source": [
    "plt.figure(figsize=(16, 3))"
   ]
  },
  {
   "cell_type": "code",
   "execution_count": 153,
   "id": "f983c7ab",
   "metadata": {},
   "outputs": [
    {
     "data": {
      "text/plain": [
       "Text(0.5, 1.0, 'Relationship b/w Points and weight')"
      ]
     },
     "execution_count": 153,
     "metadata": {},
     "output_type": "execute_result"
    },
    {
     "data": {
      "image/png": "[encoded data removed]",
      "text/plain": [
       "<Figure size 640x480 with 3 Axes>"
      ]
     },
     "metadata": {},
     "output_type": "display_data"
    }
   ],
   "source": [
    "plt.subplot(1, 3, 1)\n",
    "plt.scatter(df['Points'], df['Score'])\n",
    "plt.xlabel('Points')\n",
    "plt.ylabel('Score')\n",
    "plt.title('Relation b/w Points and Score')\n",
    "plt.subplot(1, 3, 2)\n",
    "plt.scatter(df['Points'], df['Weigh'])\n",
    "plt.xlabel('Points')\n",
    "plt.ylabel('Weigh')\n",
    "plt.title('Relationship b/w Points and weight')\n",
    "plt.subplot(1, 3, 3)\n",
    "plt.scatter(df['Weigh'], df['Score'])\n",
    "plt.xlabel('Points')\n",
    "plt.ylabel('Weigh')\n",
    "plt.title('Relationship b/w Points and weight')"
   ]
  },
  {
   "cell_type": "markdown",
   "id": "c03aaff3",
   "metadata": {},
   "source": [
    "# question 8"
   ]
  },
  {
   "cell_type": "code",
   "execution_count": 154,
   "id": "88e786e5",
   "metadata": {},
   "outputs": [],
   "source": [
    "weights = [108, 110, 123, 134, 135, 145, 167, 187, 199]"
   ]
  },
  {
   "cell_type": "code",
   "execution_count": 155,
   "id": "23c21bd0",
   "metadata": {},
   "outputs": [
    {
     "data": {
      "text/plain": [
       "[108, 110, 123, 134, 135, 145, 167, 187, 199]"
      ]
     },
     "execution_count": 155,
     "metadata": {},
     "output_type": "execute_result"
    }
   ],
   "source": [
    "weights"
   ]
  },
  {
   "cell_type": "code",
   "execution_count": 156,
   "id": "625c7e99",
   "metadata": {},
   "outputs": [],
   "source": [
    "exp_value = sum(weights)/len(weights)"
   ]
  },
  {
   "cell_type": "code",
   "execution_count": 157,
   "id": "2d3a78ff",
   "metadata": {},
   "outputs": [
    {
     "data": {
      "text/plain": [
       "145.33333333333334"
      ]
     },
     "execution_count": 157,
     "metadata": {},
     "output_type": "execute_result"
    }
   ],
   "source": [
    "exp_value"
   ]
  },
  {
   "cell_type": "code",
   "execution_count": null,
   "id": "6ad4948b",
   "metadata": {},
   "outputs": [],
   "source": []
  }
 ],
 "metadata": {
  "kernelspec": {
   "display_name": "Python 3 (ipykernel)",
   "language": "python",
   "name": "python3"
  },
  "language_info": {
   "codemirror_mode": {
    "name": "ipython",
    "version": 3
   },
   "file_extension": ".py",
   "mimetype": "text/x-python",
   "name": "python",
   "nbconvert_exporter": "python",
   "pygments_lexer": "ipython3",
   "version": "3.11.4"
  }
 },
 "nbformat": 4,
 "nbformat_minor": 5
}
