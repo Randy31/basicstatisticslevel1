{
 "cells": [
  {
   "cell_type": "code",
   "execution_count": 1,
   "id": "95ba7735",
   "metadata": {},
   "outputs": [],
   "source": [
    "import scipy.stats as stats"
   ]
  },
  {
   "cell_type": "code",
   "execution_count": 2,
   "id": "321bde1b",
   "metadata": {},
   "outputs": [],
   "source": [
    "confidence_95 = 0.95\n",
    "confidence_96 = 0.96\n",
    "confidence_99 = 0.99"
   ]
  },
  {
   "cell_type": "code",
   "execution_count": 3,
   "id": "4f9f56f3",
   "metadata": {},
   "outputs": [],
   "source": [
    "samplesize = 25"
   ]
  },
  {
   "cell_type": "code",
   "execution_count": 4,
   "id": "56d948eb",
   "metadata": {},
   "outputs": [],
   "source": [
    "df = samplesize - 1"
   ]
  },
  {
   "cell_type": "code",
   "execution_count": 5,
   "id": "b348f43a",
   "metadata": {},
   "outputs": [
    {
     "data": {
      "text/plain": [
       "24"
      ]
     },
     "execution_count": 5,
     "metadata": {},
     "output_type": "execute_result"
    }
   ],
   "source": [
    "df"
   ]
  },
  {
   "cell_type": "code",
   "execution_count": 7,
   "id": "fcfe1201",
   "metadata": {},
   "outputs": [],
   "source": [
    "t_score_95 = stats.t.ppf((1 + confidence_95) / 2, df=df)\n",
    "t_score_96 = stats.t.ppf((1 + confidence_96) / 2, df=df)\n",
    "t_score_99 = stats.t.ppf((1 + confidence_99) / 2, df=df)"
   ]
  },
  {
   "cell_type": "code",
   "execution_count": 8,
   "id": "7a38e570",
   "metadata": {},
   "outputs": [
    {
     "data": {
      "text/plain": [
       "2.0638985616280205"
      ]
     },
     "execution_count": 8,
     "metadata": {},
     "output_type": "execute_result"
    }
   ],
   "source": [
    "t_score_95"
   ]
  },
  {
   "cell_type": "code",
   "execution_count": 10,
   "id": "d80ebc33",
   "metadata": {},
   "outputs": [
    {
     "data": {
      "text/plain": [
       "2.1715446760080677"
      ]
     },
     "execution_count": 10,
     "metadata": {},
     "output_type": "execute_result"
    }
   ],
   "source": [
    "t_score_96"
   ]
  },
  {
   "cell_type": "code",
   "execution_count": 11,
   "id": "ab154c6d",
   "metadata": {},
   "outputs": [
    {
     "data": {
      "text/plain": [
       "2.796939504772804"
      ]
     },
     "execution_count": 11,
     "metadata": {},
     "output_type": "execute_result"
    }
   ],
   "source": [
    "t_score_99"
   ]
  },
  {
   "cell_type": "code",
   "execution_count": null,
   "id": "6a19cfd7",
   "metadata": {},
   "outputs": [],
   "source": []
  }
 ],
 "metadata": {
  "kernelspec": {
   "display_name": "Python 3 (ipykernel)",
   "language": "python",
   "name": "python3"
  },
  "language_info": {
   "codemirror_mode": {
    "name": "ipython",
    "version": 3
   },
   "file_extension": ".py",
   "mimetype": "text/x-python",
   "name": "python",
   "nbconvert_exporter": "python",
   "pygments_lexer": "ipython3",
   "version": "3.11.4"
  }
 },
 "nbformat": 4,
 "nbformat_minor": 5
}
